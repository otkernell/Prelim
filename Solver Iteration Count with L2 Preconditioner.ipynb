{
 "cells": [
  {
   "cell_type": "code",
   "execution_count": 1,
   "metadata": {},
   "outputs": [],
   "source": [
    "from firedrake import *\n",
    "import numpy as np\n",
    "from petsc4py import *\n",
    "from matplotlib import pyplot as plt\n",
    "%matplotlib inline"
   ]
  },
  {
   "cell_type": "code",
   "execution_count": 7,
   "metadata": {},
   "outputs": [],
   "source": [
    "def preconditioning(n,dt,parameters,useJP=False): #eventually add tuple for H1 Riesz Map\n",
    "    mesh = UnitSquareMesh(n,n)\n",
    "    \n",
    "    order = 1\n",
    "    \n",
    "    V = FunctionSpace(mesh, \"RT\", order)\n",
    "    Q = FunctionSpace(mesh, \"DG\", order-1)\n",
    "    Z=V*Q\n",
    "    \n",
    "    up_ = Function(Z)\n",
    "    up = Function(Z)\n",
    "    \n",
    "    vw = TestFunction(Z)\n",
    "    \n",
    "    ic = project(Expression([\"sin(pi*x[0])\",\"sin(2*pi*x[1])\",10]), Z)\n",
    "    \n",
    "    up_.assign(ic)\n",
    "    up.assign(ic)\n",
    "    \n",
    "    u_, p_ = split(up_)\n",
    "    u, p = split(up)\n",
    "    v, w = split(vw)\n",
    "    \n",
    "    Theta = 0.5\n",
    "\n",
    "    k = Constant(dt)\n",
    "    \n",
    "    F = (\n",
    "        (inner(v,(u-u_)))*dx\n",
    "        - (inner(div(v),(Theta*p+(1-Theta)*p_))*k)*dx\n",
    "        - (inner(w,(p-p_)))*dx\n",
    "        - (inner(w,div(Theta*u+(1-Theta)*u_))*k)*dx\n",
    "    )\n",
    "    \n",
    "    bcs = [DirichletBC(Z.sub(0), 0, (1,2,3,4))]\n",
    "    \n",
    "    if useJP:\n",
    "        uu, pp = TrialFunctions(Z)\n",
    "        Jpc = (inner(v,uu)*dx + inner(w,pp)*dx) #add alpha, beta, gamma and pass in tuple\n",
    "    else:\n",
    "        Jpc = None\n",
    "    \n",
    "    up_problem = NonlinearVariationalProblem(F, up, bcs=bcs, Jp=Jpc)\n",
    "    up_solver = NonlinearVariationalSolver(up_problem,solver_parameters = parameters)\n",
    "    \n",
    "    up_solver.solve()\n",
    "    #solve(F==0, up, bcs=bcs, J=Jpc, solver_parameters=solver_parameters)\n",
    "    \n",
    "    iter = up_solver.snes.getLinearSolveIterations()\n",
    "    print(iter)\n",
    "    return(iter)"
   ]
  },
  {
   "cell_type": "code",
   "execution_count": 35,
   "metadata": {},
   "outputs": [
    {
     "name": "stdout",
     "output_type": "stream",
     "text": [
      "109\n"
     ]
    },
    {
     "data": {
      "text/plain": [
       "109"
      ]
     },
     "execution_count": 35,
     "metadata": {},
     "output_type": "execute_result"
    }
   ],
   "source": [
    "parameters = {\"snes_type\": \"ksponly\",\n",
    "              \"mat_type\": \"aij\",\n",
    "              \"ksp_type\": \"gmres\",\n",
    "              \"pc_type\": \"none\"}\n",
    "n = 64\n",
    "dt = 1.0/n\n",
    "preconditioning(n,dt,parameters, True)\n",
    "#iterations.append(iter)"
   ]
  },
  {
   "cell_type": "code",
   "execution_count": 4,
   "metadata": {},
   "outputs": [],
   "source": [
    "#plt.plot(n, iterations)\n",
    "#plt.show()\n",
    "\n",
    "#let k be order h and sqrt h"
   ]
  },
  {
   "cell_type": "markdown",
   "metadata": {},
   "source": [
    "$k$ of order $h$"
   ]
  },
  {
   "cell_type": "code",
   "execution_count": 6,
   "metadata": {},
   "outputs": [
    {
     "data": {
      "text/plain": [
       "[<matplotlib.lines.Line2D at 0x11751a940>,\n",
       " <matplotlib.lines.Line2D at 0x11751aa90>]"
      ]
     },
     "execution_count": 6,
     "metadata": {},
     "output_type": "execute_result"
    },
    {
     "data": {
      "image/png": "[encoded data removed]",
      "text/plain": [
       "<matplotlib.figure.Figure at 0x114887898>"
      ]
     },
     "metadata": {
      "needs_background": "light"
     },
     "output_type": "display_data"
    }
   ],
   "source": [
    "parameters = {\"snes_type\": \"ksponly\",\n",
    "              \"mat_type\": \"aij\",\n",
    "              \"ksp_type\": \"gmres\",\n",
    "              \"pc_type\": \"lu\"}\n",
    "iterations = [[],[]]\n",
    "n = [8,16,32,64,128]\n",
    "for i in n:\n",
    "    for tf in [True,False]:\n",
    "        dt = 1.0/sqrt(i)\n",
    "        iter = preconditioning(i,dt,parameters,tf)\n",
    "        iterations[int(tf)].append(iter)\n",
    "\n",
    "plt.plot(n,iterations[0],n,iterations[1])"
   ]
  },
  {
   "cell_type": "code",
   "execution_count": null,
   "metadata": {},
   "outputs": [],
   "source": [
    "parameters = {\"snes_type\": \"ksponly\",\n",
    "              \"mat_type\": \"aij\",\n",
    "              \"ksp_type\": \"gmres\",\n",
    "              \"pc_type\": \"lu\"}\n",
    "iterations = [[],[]]\n",
    "n = [8,16,32,64,128]\n",
    "for i in n:\n",
    "    for tf in [True,False]:\n",
    "        dt = 1.0/i\n",
    "        iter = preconditioning(i,dt,parameters,tf)\n",
    "        iterations[int(tf)].append(iter)\n",
    "\n",
    "plt.plot(n,iterations[0],n,iterations[1])"
   ]
  },
  {
   "cell_type": "code",
   "execution_count": null,
   "metadata": {},
   "outputs": [],
   "source": []
  },
  {
   "cell_type": "code",
   "execution_count": null,
   "metadata": {},
   "outputs": [],
   "source": []
  },
  {
   "cell_type": "code",
   "execution_count": null,
   "metadata": {},
   "outputs": [],
   "source": []
  },
  {
   "cell_type": "code",
   "execution_count": null,
   "metadata": {},
   "outputs": [],
   "source": []
  },
  {
   "cell_type": "code",
   "execution_count": null,
   "metadata": {},
   "outputs": [],
   "source": []
  },
  {
   "cell_type": "code",
   "execution_count": null,
   "metadata": {},
   "outputs": [],
   "source": []
  }
 ],
 "metadata": {
  "kernelspec": {
   "display_name": "Python 3",
   "language": "python",
   "name": "python3"
  },
  "language_info": {
   "codemirror_mode": {
    "name": "ipython",
    "version": 3
   },
   "file_extension": ".py",
   "mimetype": "text/x-python",
   "name": "python",
   "nbconvert_exporter": "python",
   "pygments_lexer": "ipython3",
   "version": "3.6.4"
  }
 },
 "nbformat": 4,
 "nbformat_minor": 2
}
