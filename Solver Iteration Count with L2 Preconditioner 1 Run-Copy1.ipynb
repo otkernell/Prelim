{
 "cells": [
  {
   "cell_type": "code",
   "execution_count": 1,
   "metadata": {},
   "outputs": [],
   "source": [
    "from firedrake import *\n",
    "import numpy as np\n",
    "from petsc4py import *\n",
    "from matplotlib import pyplot as plt\n",
    "%matplotlib inline"
   ]
  },
  {
   "cell_type": "code",
   "execution_count": 2,
   "metadata": {},
   "outputs": [],
   "source": [
    "def preconditioning(parameters,n,nt):\n",
    "    n = 16\n",
    "    nt = 8\n",
    "    \n",
    "    mesh = UnitSquareMesh(n,n)\n",
    "    \n",
    "    order = 1\n",
    "    \n",
    "    V = FunctionSpace(mesh, \"RT\", order)\n",
    "    Q = FunctionSpace(mesh, \"DG\", order-1)\n",
    "    Z=V*Q\n",
    "    \n",
    "    up_ = Function(Z)\n",
    "    up = Function(Z)\n",
    "    \n",
    "    vw = TestFunction(Z)\n",
    "    \n",
    "    ic = project(Expression([\"sin(pi*x[0])\",\"sin(2*pi*x[1])\",10]), Z)\n",
    "    \n",
    "    up_.assign(ic)\n",
    "    up.assign(ic)\n",
    "    \n",
    "    u_, p_ = split(up_)\n",
    "    u, p = split(up)\n",
    "    v, w = split(vw)\n",
    "    \n",
    "    Theta = 0.5\n",
    "    \n",
    "    dt = 1.0/nt\n",
    "    k = Constant(dt)\n",
    "    \n",
    "    F = (\n",
    "        (inner(v,(u-u_)))*dx\n",
    "        - (inner(div(v),(Theta*p+(1-Theta)*p_))*k)*dx\n",
    "        - (inner(w,(p-p_)))*dx\n",
    "        - (inner(w,div(Theta*u+(1-Theta)*u_))*k)*dx\n",
    "    )\n",
    "    \n",
    "    bcs = [DirichletBC(Z.sub(0), 0, (1,2,3,4))]\n",
    "    \n",
    "    uu, pp = TrialFunctions(Z)\n",
    "    \n",
    "    Jpc = (\n",
    "        inner(v,uu)*dx\n",
    "        + inner(w,pp)*dx\n",
    "    )\n",
    "    \n",
    "    up_problem = NonlinearVariationalProblem(F, up, bcs=bcs, Jp=Jpc)#J=Jpc doesn't work?\n",
    "    up_solver = NonlinearVariationalSolver(up_problem,solver_parameters = parameters)\n",
    "    \n",
    "    up_solver.solve()\n",
    "    #solve(F==0, up, bcs=bcs, J=Jpc, solver_parameters=solver_parameters)\n",
    "    \n",
    "    iter = up_solver.snes.getLinearSolveIterations()\n",
    "    print(iter)\n",
    "    return(iter)"
   ]
  },
  {
   "cell_type": "code",
   "execution_count": 3,
   "metadata": {},
   "outputs": [
    {
     "name": "stdout",
     "output_type": "stream",
     "text": [
      "5\n"
     ]
    }
   ],
   "source": [
    "if __name__ == \"__main__\":\n",
    "    parameters = {\"mat_type\": \"aij\",\n",
    "                  \"ksp_type\": \"preonly\",\n",
    "                  \"pc_type\": \"lu\",\n",
    "                  \"snes_linesearch_type\": \"basic\",\n",
    "                  \"snes_monitor\": None\n",
    "                 }\n",
    "    n = 16\n",
    "    nt = 8\n",
    "    preconditioning(parameters,n,nt)\n",
    "    #iterations.append(iter)"
   ]
  },
  {
   "cell_type": "code",
   "execution_count": null,
   "metadata": {},
   "outputs": [],
   "source": [
    "#plt.plot(n, iterations)\n",
    "#plt.show()"
   ]
  }
 ],
 "metadata": {
  "kernelspec": {
   "display_name": "Python 3",
   "language": "python",
   "name": "python3"
  },
  "language_info": {
   "codemirror_mode": {
    "name": "ipython",
    "version": 3
   },
   "file_extension": ".py",
   "mimetype": "text/x-python",
   "name": "python",
   "nbconvert_exporter": "python",
   "pygments_lexer": "ipython3",
   "version": "3.6.4"
  }
 },
 "nbformat": 4,
 "nbformat_minor": 2
}
