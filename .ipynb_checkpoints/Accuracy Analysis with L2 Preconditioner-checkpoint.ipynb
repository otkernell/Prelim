{
 "cells": [
  {
   "cell_type": "code",
   "execution_count": 1,
   "metadata": {},
   "outputs": [],
   "source": [
    "from firedrake import *\n",
    "import numpy as np\n",
    "from petsc4py import *\n",
    "from matplotlib import pyplot as plt\n",
    "%matplotlib inline"
   ]
  },
  {
   "cell_type": "code",
   "execution_count": 2,
   "metadata": {},
   "outputs": [
    {
     "data": {
      "image/png": "[encoded data removed]",
      "text/plain": [
       "<matplotlib.figure.Figure at 0x118c21f28>"
      ]
     },
     "metadata": {
      "needs_background": "light"
     },
     "output_type": "display_data"
    }
   ],
   "source": [
    "def TrueSolution(n,dt,T,parameters,useJP=False):\n",
    "    mesh = UnitSquareMesh(n, n)\n",
    "    \n",
    "    order = 1\n",
    "    V = FunctionSpace(mesh, \"RT\", order)\n",
    "    Q = FunctionSpace(mesh, \"DG\", order-1)\n",
    "    Z=V*Q\n",
    "\n",
    "    VH = FunctionSpace(mesh, \"CG\", 1)\n",
    "\n",
    "    up_ = Function(Z)\n",
    "    up = Function(Z)\n",
    "\n",
    "    vw = TestFunction(Z)\n",
    "    \n",
    "    utrue = Function(V)\n",
    "\n",
    "    utrue0_str = \"-x[0]*(1-x[0])*sin(t)\"\n",
    "    utrue1_str = \"-x[1]*(1-x[1])*sin(t)\"\n",
    "    ptrue_str = \"-2*(1-x[0]-x[1])*cos(t)\"\n",
    "\n",
    "    utrue_expr = Expression((utrue0_str, utrue1_str), t=0.0)\n",
    "    \n",
    "    ptrue = Function(Q)\n",
    "    ptrue_expr = Expression(ptrue_str, t=0.0)\n",
    "    \n",
    "    ic = project(Expression((utrue0_str,utrue1_str,ptrue_str),t=0.0), Z)  #set to true solution to time t=0\n",
    "    \n",
    "    up_.assign(ic)\n",
    "    up.assign(ic)\n",
    "\n",
    "    u_, p_ = split(up_)\n",
    "    u, p = split(up)\n",
    "    v, w = split(vw)\n",
    "    \n",
    "    Theta = 0.5\n",
    "    \n",
    "    #dt = 1.0/n\n",
    "    k = Constant(dt) \n",
    "\n",
    "    Forcing_expr = Expression(\n",
    "        (\"(2-x[0]+pow(x[0],2))*cos(t)\",\n",
    "         \"(2-x[1]+pow(x[1],2))*cos(t)\"),\n",
    "        t=0.0)\n",
    "\n",
    "\n",
    "    Forcing = Function(V)\n",
    "    \n",
    "    F = (\n",
    "        (inner(v,(u-u_)))*dx\n",
    "        - (inner(div(v),(Theta*p+(1-Theta)*p_))*k)*dx\n",
    "        - (inner(w,(p-p_)))*dx\n",
    "        - (inner(w,div(Theta*u+(1-Theta)*u_))*k)*dx\n",
    "        - (inner(Forcing,v)*k)*dx\n",
    "    )\n",
    "    \n",
    "    bcs = [DirichletBC(Z.sub(0), 0, (1,2,3,4))]\n",
    "    time_array=[]\n",
    "    energy_array=[]\n",
    "\n",
    "    t = 0.0\n",
    "    \n",
    "    if useJP:\n",
    "        uu, pp = TrialFunctions(Z)\n",
    "        Jpc = (inner(v,uu)*dx + inner(w,pp)*dx)\n",
    "    else:\n",
    "        Jpc = None\n",
    "    \n",
    "    uerror_array = []\n",
    "    perror_array = []\n",
    "\n",
    "    while (t <= T):\n",
    "        Forcing_expr.t = t+.5*dt\n",
    "        utrue_expr.t = t+dt\n",
    "        ptrue_expr.t = t+dt\n",
    "\n",
    "        Forcing.project(Forcing_expr)\n",
    "\n",
    "        time_array.append(t)\n",
    "        solve(F == 0, up, bcs=bcs, Jp = Jpc,\n",
    "              solver_parameters = parameters)\n",
    "        up_.assign(up)\n",
    "\n",
    "        u, p = up.split()\n",
    "        \n",
    "        utrue.project(utrue_expr)\n",
    "        ptrue.project(ptrue_expr)\n",
    "        \n",
    "        uerror = sqrt(assemble(inner(u-utrue, u-utrue)*dx))\n",
    "        uerror_array.append(uerror)\n",
    "\n",
    "        perror = sqrt(assemble((p-ptrue)**2*dx))\n",
    "        perror_array.append(perror)\n",
    "\n",
    "        t += dt\n",
    "    \n",
    "    #plt.plot(time_array,uerror_array)\n",
    "    #plt.plot(time_array,perror_array)\n",
    "    #plt.show()\n",
    "    return(time_array,uerror_array,perror_array)"
   ]
  },
  {
   "cell_type": "code",
   "execution_count": null,
   "metadata": {},
   "outputs": [],
   "source": [
    "solver_params={\n",
    "    \"snes_type\": \"ksponly\",\n",
    "    \"mat_type\": \"aij\",\n",
    "    \"ksp_type\": \"gmres\",\n",
    "    \"pc_type\": \"lu\"\n",
    "}\n",
    "n = 40\n",
    "dt = 1.0/n\n",
    "T = 10.0\n",
    "TrueSolution(n,dt,T,parameters,True)"
   ]
  }
 ],
 "metadata": {
  "kernelspec": {
   "display_name": "Python 3",
   "language": "python",
   "name": "python3"
  },
  "language_info": {
   "codemirror_mode": {
    "name": "ipython",
    "version": 3
   },
   "file_extension": ".py",
   "mimetype": "text/x-python",
   "name": "python",
   "nbconvert_exporter": "python",
   "pygments_lexer": "ipython3",
   "version": "3.6.4"
  }
 },
 "nbformat": 4,
 "nbformat_minor": 2
}
