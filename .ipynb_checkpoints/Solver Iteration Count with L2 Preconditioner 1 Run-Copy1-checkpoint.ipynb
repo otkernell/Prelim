{
 "cells": [
  {
   "cell_type": "code",
   "execution_count": 1,
   "metadata": {},
   "outputs": [],
   "source": [
    "from firedrake import *\n",
    "import numpy as np\n",
    "from petsc4py import *\n",
    "from matplotlib import pyplot as plt"
   ]
  },
  {
   "cell_type": "code",
   "execution_count": 2,
   "metadata": {},
   "outputs": [],
   "source": [
    "n = 16\n",
    "nt = 8"
   ]
  },
  {
   "cell_type": "code",
   "execution_count": 3,
   "metadata": {},
   "outputs": [],
   "source": [
    "mesh = UnitSquareMesh(n,n)"
   ]
  },
  {
   "cell_type": "code",
   "execution_count": 4,
   "metadata": {},
   "outputs": [],
   "source": [
    "order = 1\n",
    "V = FunctionSpace(mesh, \"RT\", order)\n",
    "Q = FunctionSpace(mesh, \"DG\", order-1)\n",
    "Z=V*Q\n",
    "\n",
    "up_ = Function(Z)\n",
    "up = Function(Z)\n",
    "\n",
    "vw = TestFunction(Z)\n",
    "\n",
    "ic = project(Expression([\"sin(pi*x[0])\",\"sin(2*pi*x[1])\",10]), Z)"
   ]
  },
  {
   "cell_type": "code",
   "execution_count": 5,
   "metadata": {},
   "outputs": [],
   "source": [
    "up_.assign(ic)\n",
    "up.assign(ic)\n",
    "\n",
    "u_, p_ = split(up_)\n",
    "u, p = split(up)\n",
    "v, w = split(vw)"
   ]
  },
  {
   "cell_type": "markdown",
   "metadata": {},
   "source": [
    "Chose Crank Nicholson for our Theta Method so $\\theta = 0.5$"
   ]
  },
  {
   "cell_type": "code",
   "execution_count": 6,
   "metadata": {},
   "outputs": [],
   "source": [
    "Theta = 0.5"
   ]
  },
  {
   "cell_type": "code",
   "execution_count": 7,
   "metadata": {},
   "outputs": [],
   "source": [
    "dt = 1.0/nt\n",
    "k = Constant(dt)"
   ]
  },
  {
   "cell_type": "markdown",
   "metadata": {},
   "source": [
    "Discretized weak form of wave equation:"
   ]
  },
  {
   "cell_type": "code",
   "execution_count": 8,
   "metadata": {},
   "outputs": [],
   "source": [
    "F = (\n",
    "    (inner(v,(u-u_)))*dx\n",
    "    - (inner(div(v),(Theta*p+(1-Theta)*p_))*k)*dx\n",
    "    - (inner(w,(p-p_)))*dx\n",
    "    - (inner(w,div(Theta*u+(1-Theta)*u_))*k)*dx\n",
    ")"
   ]
  },
  {
   "cell_type": "markdown",
   "metadata": {},
   "source": [
    "Boundary Conditions"
   ]
  },
  {
   "cell_type": "code",
   "execution_count": 9,
   "metadata": {},
   "outputs": [],
   "source": [
    "bcs = [DirichletBC(Z.sub(0), 0, (1,2,3,4))]"
   ]
  },
  {
   "cell_type": "markdown",
   "metadata": {},
   "source": [
    "Parameters of solver"
   ]
  },
  {
   "cell_type": "code",
   "execution_count": 10,
   "metadata": {},
   "outputs": [],
   "source": [
    "solver_parameters = {\"mat_type\": \"aij\",\n",
    "               \"ksp_type\": \"preonly\",\n",
    "               \"pc_type\": \"lu\",\n",
    "               \"snes_linesearch_type\": \"basic\",\n",
    "               \"snes_monitor\": None}"
   ]
  },
  {
   "cell_type": "markdown",
   "metadata": {},
   "source": [
    "Set up preconditioner"
   ]
  },
  {
   "cell_type": "code",
   "execution_count": 11,
   "metadata": {},
   "outputs": [],
   "source": [
    "uu, pp = TrialFunctions(Z)\n",
    "Jpc = (\n",
    "    inner(v,uu)*dx\n",
    "    + inner(w,pp)*dx\n",
    ")"
   ]
  },
  {
   "cell_type": "markdown",
   "metadata": {},
   "source": [
    "Create nonlinear variational problem and solver"
   ]
  },
  {
   "cell_type": "code",
   "execution_count": 12,
   "metadata": {},
   "outputs": [],
   "source": [
    "up_problem = NonlinearVariationalProblem(F, up, bcs=bcs, Jp=Jpc)#Jp=Jpc works?\n",
    "up_solver = NonlinearVariationalSolver(up_problem,solver_parameters = parameters)\n",
    "\n",
    "up_solver.solve()\n",
    "\n",
    "#solve(F==0, up, bcs=bcs, J=Jpc, solver_parameters=solver_parameters)"
   ]
  },
  {
   "cell_type": "code",
   "execution_count": 13,
   "metadata": {},
   "outputs": [
    {
     "name": "stdout",
     "output_type": "stream",
     "text": [
      "126\n"
     ]
    }
   ],
   "source": [
    "iter = up_solver.snes.getLinearSolveIterations()\n",
    "print(iter)"
   ]
  },
  {
   "cell_type": "code",
   "execution_count": null,
   "metadata": {},
   "outputs": [],
   "source": []
  }
 ],
 "metadata": {
  "kernelspec": {
   "display_name": "Python 3",
   "language": "python",
   "name": "python3"
  },
  "language_info": {
   "codemirror_mode": {
    "name": "ipython",
    "version": 3
   },
   "file_extension": ".py",
   "mimetype": "text/x-python",
   "name": "python",
   "nbconvert_exporter": "python",
   "pygments_lexer": "ipython3",
   "version": "3.6.4"
  }
 },
 "nbformat": 4,
 "nbformat_minor": 2
}
